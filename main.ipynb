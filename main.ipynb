{
 "cells": [
  {
   "cell_type": "code",
   "execution_count": 33,
   "id": "0eb966b6-5dc5-40cd-b7c5-219ad2f28380",
   "metadata": {},
   "outputs": [
    {
     "name": "stdout",
     "output_type": "stream",
     "text": [
      "Hello world!\n"
     ]
    }
   ],
   "source": [
    "# Initial imports\n",
    "import os\n",
    "import sys\n",
    "import numpy as np\n",
    "\n",
    "import torch.optim as optim\n",
    "import torch.utils.data\n",
    "from torchvision import datasets\n",
    "from torchvision import transforms\n",
    "\n",
    "# Import system files\n",
    "from src import evaluate as test\n",
    "from src import parsers as par\n",
    "from src import data_loader as dl\n",
    "from src import functions as f\n",
    "from src.model import NN_Model\n",
    "\n",
    "# Get cpu or gpu device for training.\n",
    "device = \"cuda\" if torch.cuda.is_available() else \"cpu\"\n",
    "\n",
    "def main():\n",
    "    # Test import\n",
    "    test.test_print()\n",
    "    \n",
    "    # Import model\n",
    "    # model = NN_Model().to(device)\n",
    "    \n",
    "    # load data e.g.:\n",
    "    \n",
    "    # training_data =\n",
    "    # test_data = \n",
    "    \n",
    "    # Create data loaders\n",
    "    \n",
    "    # Set hyperparameters for learning\n",
    "    \n",
    "    # loss_fn = nn.CrossEntropyLoss()\n",
    "    # learning_rate = 1e-3\n",
    "    # optimizer = torch.optim.SGD(model.parameters(), lr=learning_rate)\n",
    "    \n",
    "    \n",
    "    # Training loop from \n",
    "    # f.train_model()\n",
    "    \n",
    "    \n",
    "    \n",
    "if __name__ == '__main__':\n",
    "    main()\n"
   ]
  },
  {
   "cell_type": "code",
   "execution_count": null,
   "id": "570211aa-61b6-4677-8a6d-5453a027e2a0",
   "metadata": {},
   "outputs": [],
   "source": []
  }
 ],
 "metadata": {
  "kernelspec": {
   "display_name": "Python 3",
   "language": "python",
   "name": "python3"
  },
  "language_info": {
   "codemirror_mode": {
    "name": "ipython",
    "version": 3
   },
   "file_extension": ".py",
   "mimetype": "text/x-python",
   "name": "python",
   "nbconvert_exporter": "python",
   "pygments_lexer": "ipython3",
   "version": "3.9.5"
  }
 },
 "nbformat": 4,
 "nbformat_minor": 5
}
